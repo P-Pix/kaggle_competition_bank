{
 "cells": [
  {
   "cell_type": "code",
   "execution_count": null,
   "id": "98012128",
   "metadata": {},
   "outputs": [],
   "source": [
    "import matplotlib.pyplot as plt\n",
    "import seaborn as sns\n",
    "import pandas as pd\n",
    "import os\n",
    "\n",
    "FOLDER = \"playground-series-s5e8/\"\n",
    "FILES = os.listdir(FOLDER)\n",
    "FILES"
   ]
  },
  {
   "cell_type": "code",
   "execution_count": null,
   "id": "fae0a405",
   "metadata": {},
   "outputs": [],
   "source": [
    "TEST = pd.read_csv(FOLDER + FILES[0], index_col=0)\n",
    "TEST.head()"
   ]
  },
  {
   "cell_type": "code",
   "execution_count": null,
   "id": "168ff852",
   "metadata": {},
   "outputs": [],
   "source": [
    "TRAIN = pd.read_csv(FOLDER + FILES[2], index_col=0)\n",
    "TRAIN.head()"
   ]
  },
  {
   "cell_type": "code",
   "execution_count": null,
   "id": "29a00cdf",
   "metadata": {},
   "outputs": [],
   "source": [
    "X = TRAIN.drop(columns=[\"y\"])\n",
    "y = TRAIN[\"y\"]"
   ]
  },
  {
   "cell_type": "code",
   "execution_count": null,
   "id": "35e92382",
   "metadata": {},
   "outputs": [],
   "source": [
    "y.value_counts().plot(kind=\"bar\")"
   ]
  },
  {
   "cell_type": "code",
   "execution_count": null,
   "id": "33188895",
   "metadata": {},
   "outputs": [],
   "source": [
    "for col in X.columns:\n",
    "    plt.figure(figsize=(10, 6))\n",
    "    sns.histplot(X[col])\n",
    "    plt.title(f\"Distribution of {col}\")\n",
    "    plt.xlabel(col)\n",
    "    plt.ylabel(\"Frequency\")\n",
    "    plt.show()"
   ]
  },
  {
   "cell_type": "code",
   "execution_count": null,
   "id": "6244015e",
   "metadata": {},
   "outputs": [],
   "source": [
    "print(X.dtypes)\n",
    "# pour chaque colonne de X si c'est un objet, faire un value_counts et mettre à la place du texte une valeur numérique (1, 2, 3, ...)\n",
    "for col in X.columns:\n",
    "    if X[col].dtype == \"object\":\n",
    "        print(X[col].value_counts())\n",
    "        X[col] = X[col].astype(\"category\").cat.codes\n",
    "X.head()"
   ]
  },
  {
   "cell_type": "code",
   "execution_count": null,
   "id": "a2f597e3",
   "metadata": {},
   "outputs": [],
   "source": [
    "# PCA\n",
    "from sklearn.decomposition import PCA\n",
    "import matplotlib.pyplot as plt\n",
    "\n",
    "pca = PCA(n_components=2)\n",
    "X_pca = pca.fit_transform(X)\n",
    "\n",
    "plt.figure(figsize=(10, 6))\n",
    "plt.scatter(X_pca[:, 0], X_pca[:, 1], c=y, cmap='viridis', edgecolor='k', s=50)\n",
    "plt.title(\"PCA of Features\")\n",
    "plt.xlabel(\"Principal Component 1\")\n",
    "plt.ylabel(\"Principal Component 2\")\n",
    "plt.colorbar(label='Target Variable')\n",
    "plt.tight_layout()\n",
    "plt.show()"
   ]
  },
  {
   "cell_type": "code",
   "execution_count": null,
   "id": "518074b8",
   "metadata": {},
   "outputs": [],
   "source": [
    "pca = PCA(n_components=3)\n",
    "X_pca = pca.fit_transform(X)\n",
    "\n",
    "plt.figure(figsize=(10, 6))\n",
    "ax = plt.axes(projection='3d')\n",
    "ax.scatter3D(X_pca[:, 0], X_pca[:, 1], X_pca[:, 2], c=y, cmap='viridis', edgecolor='k', s=50)\n",
    "ax.set_title(\"3D PCA of Features\")\n",
    "ax.set_xlabel(\"Principal Component 1\")\n",
    "ax.set_ylabel(\"Principal Component 2\")\n",
    "ax.set_zlabel(\"Principal Component 3\")\n",
    "plt.colorbar(label='Target Variable')\n",
    "plt.tight_layout()\n",
    "plt.show()"
   ]
  },
  {
   "cell_type": "code",
   "execution_count": null,
   "id": "12a71f61",
   "metadata": {},
   "outputs": [],
   "source": [
    "# t-SNE\n",
    "from sklearn.manifold import TSNE\n",
    "tsne = TSNE(n_components=2, random_state=42)\n",
    "X_tsne = tsne.fit_transform(X)\n",
    "plt.figure(figsize=(10, 6))\n",
    "plt.scatter(X_tsne[:, 0], X_tsne[:, 1], c=y, cmap='viridis', edgecolor='k', s=50)\n",
    "plt.title(\"t-SNE of Features\")\n",
    "plt.xlabel(\"t-SNE Component 1\")\n",
    "plt.ylabel(\"t-SNE Component 2\")\n",
    "plt.colorbar(label='Target Variable')\n",
    "plt.tight_layout()\n",
    "plt.show()"
   ]
  },
  {
   "cell_type": "code",
   "execution_count": null,
   "id": "34b0adf7",
   "metadata": {},
   "outputs": [],
   "source": [
    "tsne = TSNE(n_components=3, random_state=42)\n",
    "X_tsne = tsne.fit_transform(X)\n",
    "plt.figure(figsize=(10, 6))\n",
    "ax = plt.axes(projection='3d')\n",
    "ax.scatter3D(X_tsne[:, 0], X_tsne[:, 1], X_tsne[:, 2], c=y, cmap='viridis', edgecolor='k', s=50)\n",
    "ax.set_title(\"3D t-SNE of Features\")\n",
    "ax.set_xlabel(\"t-SNE Component 1\")\n",
    "ax.set_ylabel(\"t-SNE Component 2\")\n",
    "ax.set_zlabel(\"t-SNE Component 3\")\n",
    "plt.colorbar(label='Target Variable')\n",
    "plt.tight_layout()\n",
    "plt.show()"
   ]
  },
  {
   "cell_type": "code",
   "execution_count": null,
   "id": "84e1fe9a",
   "metadata": {},
   "outputs": [],
   "source": [
    "# faire une visualisation de la répartition des variables comme à la cellule d'avant mais le faire avec X et faire deux couleurs pour représenter y\n",
    "for col in X.columns:\n",
    "    plt.figure(figsize=(10, 5))\n",
    "    sns.histplot(data=X, x=col, hue=y, multiple=\"stack\", rotation=45)\n",
    "    plt.title(f\"Distribution of {col} by y\")\n",
    "    plt.show()"
   ]
  },
  {
   "cell_type": "code",
   "execution_count": null,
   "id": "af51d781",
   "metadata": {},
   "outputs": [],
   "source": [
    "## Différences entre PCA et t-SNE\n",
    "\n",
    "### **PCA (Principal Component Analysis)**\n",
    "- **Méthode linéaire** : Trouve les directions de variance maximale dans les données\n",
    "- **Préservation de la variance globale** : Garde l'information sur la variabilité totale\n",
    "- **Déterministe** : Donne toujours le même résultat\n",
    "- **Rapide** : Calcul efficace même sur de gros datasets\n",
    "- **Interprétable** : Les composantes principales peuvent être analysées\n",
    "- **Usage** : Réduction de dimensionnalité, compression de données, visualisation rapide\n",
    "\n",
    "### **t-SNE (t-Distributed Stochastic Neighbor Embedding)**\n",
    "- **Méthode non-linéaire** : Capture les relations complexes entre les points\n",
    "- **Préservation de la structure locale** : Garde les points similaires proches\n",
    "- **Stochastique** : Résultats peuvent varier entre les exécutions\n",
    "- **Plus lent** : Calcul intensif, surtout sur de gros datasets\n",
    "- **Moins interprétable** : Les axes n'ont pas de signification directe\n",
    "- **Usage** : Visualisation de clusters, exploration de données, détection de patterns\n",
    "\n",
    "### **Quand utiliser quoi ?**\n",
    "- **PCA** : Pour une vue d'ensemble rapide, réduction de dimensionnalité, preprocessing\n",
    "- **t-SNE** : Pour explorer la structure des clusters, visualiser des groupes cachés"
   ]
  },
  {
   "cell_type": "code",
   "execution_count": null,
   "id": "cf876c85",
   "metadata": {},
   "outputs": [],
   "source": [
    "# Comparaison pratique PCA vs t-SNE côte à côte\n",
    "import time\n",
    "\n",
    "# Prendre un échantillon pour t-SNE (plus rapide)\n",
    "sample_size = 5000\n",
    "indices = np.random.choice(len(X), sample_size, replace=False)\n",
    "X_sample = X.iloc[indices]\n",
    "y_sample = y.iloc[indices]\n",
    "\n",
    "fig, axes = plt.subplots(2, 2, figsize=(15, 12))\n",
    "\n",
    "# PCA 2D\n",
    "start_time = time.time()\n",
    "pca_2d = PCA(n_components=2, random_state=42)\n",
    "X_pca_2d = pca_2d.fit_transform(X_sample)\n",
    "pca_time = time.time() - start_time\n",
    "\n",
    "axes[0, 0].scatter(X_pca_2d[:, 0], X_pca_2d[:, 1], c=y_sample, cmap='viridis', alpha=0.7)\n",
    "axes[0, 0].set_title(f'PCA 2D (Temps: {pca_time:.2f}s)')\n",
    "axes[0, 0].set_xlabel(f'PC1 ({pca_2d.explained_variance_ratio_[0]:.1%} variance)')\n",
    "axes[0, 0].set_ylabel(f'PC2 ({pca_2d.explained_variance_ratio_[1]:.1%} variance)')\n",
    "\n",
    "# t-SNE 2D\n",
    "start_time = time.time()\n",
    "tsne_2d = TSNE(n_components=2, random_state=42, perplexity=30)\n",
    "X_tsne_2d = tsne_2d.fit_transform(X_sample)\n",
    "tsne_time = time.time() - start_time\n",
    "\n",
    "axes[0, 1].scatter(X_tsne_2d[:, 0], X_tsne_2d[:, 1], c=y_sample, cmap='viridis', alpha=0.7)\n",
    "axes[0, 1].set_title(f't-SNE 2D (Temps: {tsne_time:.2f}s)')\n",
    "axes[0, 1].set_xlabel('t-SNE Component 1')\n",
    "axes[0, 1].set_ylabel('t-SNE Component 2')\n",
    "\n",
    "# Distribution des distances dans l'espace original vs réduit\n",
    "from scipy.spatial.distance import pdist\n",
    "import numpy as np\n",
    "\n",
    "# Échantillon plus petit pour le calcul des distances\n",
    "small_sample = 500\n",
    "small_indices = np.random.choice(len(X_sample), small_sample, replace=False)\n",
    "X_very_small = X_sample.iloc[small_indices]\n",
    "\n",
    "# Distances originales\n",
    "orig_distances = pdist(X_very_small)\n",
    "\n",
    "# Distances PCA\n",
    "pca_distances = pdist(X_pca_2d[small_indices])\n",
    "\n",
    "# Distances t-SNE\n",
    "tsne_distances = pdist(X_tsne_2d[small_indices])\n",
    "\n",
    "axes[1, 0].scatter(orig_distances, pca_distances, alpha=0.5)\n",
    "axes[1, 0].set_xlabel('Distances originales')\n",
    "axes[1, 0].set_ylabel('Distances PCA')\n",
    "axes[1, 0].set_title('Préservation des distances - PCA')\n",
    "correlation_pca = np.corrcoef(orig_distances, pca_distances)[0, 1]\n",
    "axes[1, 0].text(0.05, 0.95, f'Corrélation: {correlation_pca:.3f}', transform=axes[1, 0].transAxes)\n",
    "\n",
    "axes[1, 1].scatter(orig_distances, tsne_distances, alpha=0.5)\n",
    "axes[1, 1].set_xlabel('Distances originales')\n",
    "axes[1, 1].set_ylabel('Distances t-SNE')\n",
    "axes[1, 1].set_title('Préservation des distances - t-SNE')\n",
    "correlation_tsne = np.corrcoef(orig_distances, tsne_distances)[0, 1]\n",
    "axes[1, 1].text(0.05, 0.95, f'Corrélation: {correlation_tsne:.3f}', transform=axes[1, 1].transAxes)\n",
    "\n",
    "plt.tight_layout()\n",
    "plt.show()\n",
    "\n",
    "print(f\"Variance expliquée par PCA: {pca_2d.explained_variance_ratio_.sum():.1%}\")\n",
    "print(f\"Temps PCA: {pca_time:.2f}s vs t-SNE: {tsne_time:.2f}s\")\n",
    "print(f\"PCA préserve mieux les distances globales (corrélation: {correlation_pca:.3f})\")\n",
    "print(f\"t-SNE se concentre sur la structure locale (corrélation: {correlation_tsne:.3f})\")"
   ]
  },
  {
   "cell_type": "code",
   "execution_count": null,
   "id": "a9dfec8f",
   "metadata": {},
   "outputs": [],
   "source": [
    "import numpy as np"
   ]
  }
 ],
 "metadata": {
  "kernelspec": {
   "display_name": "Python 3",
   "language": "python",
   "name": "python3"
  },
  "language_info": {
   "codemirror_mode": {
    "name": "ipython",
    "version": 3
   },
   "file_extension": ".py",
   "mimetype": "text/x-python",
   "name": "python",
   "nbconvert_exporter": "python",
   "pygments_lexer": "ipython3",
   "version": "3.12.3"
  }
 },
 "nbformat": 4,
 "nbformat_minor": 5
}
